{
 "cells": [
  {
   "cell_type": "markdown",
   "metadata": {},
   "source": [
    "Inference参考:\n",
    "\n",
    "Zero-Shot Ranker\n",
    "```\n",
    "            prompt = f\"I've watched the following movies in the past in order:\\n{user_his_text}\\n\\n\" \\\n",
    "                    f\"Now there are {self.recall_budget} candidate movies that I can watch next:\\n{candidate_text_order}\\n\" \\\n",
    "                    f\"Please rank these {self.recall_budget} movies by measuring the possibilities that I would like to watch next most, according to my watching history. Please think step by step.\\n\" \\\n",
    "                    f\"Note that my most recently watched movie is {recent_item}. \" \\\n",
    "                    f\"Please show me your ranking results with order numbers. Split your output with line break. You MUST rank the given candidate movies. You can not generate movies that are not in the given candidate list.\n",
    "```\n",
    "\n"
   ]
  },
  {
   "cell_type": "markdown",
   "metadata": {},
   "source": [
    "Processed Tabular Dataset:\n",
    "1. sequential historical interactions(Movie Id List)\n",
    "2. candidates (Movie Id List)  (不一定都在groudtruth里面)\n",
    "3. Groudtruth (Movie Id List)   (这个用户刨除了historical interactions里面的movie id)\n",
    "\n",
    "Natural Language dataset format: every row contains\n",
    "1. sequential historical interactions (Movie ID + Movie Names + genre + spoken Language + popularDegree)\n",
    "2. candidates (Movie ID + Movie Name + genre + spoken Language + popularDegree)\n",
    "3. Groudtruth (Movie ID + Movie Name)\n",
    "---\n",
    "DPO dataset:\n",
    "```\n",
    "<input prompt>\n",
    "You are a recommender system. Based on a user's historical likes and dislikes, rank the given candidate movies by their likelihood of being the user's next favorite, according to their watching history. Please think step by step.\n",
    "This user's historical interactions: {sequential historical interactions}\\n\n",
    "Candidates for recommendation: {candidates}\\n\n",
    "\n",
    "Strictly follow the output format:\n",
    "1. {movieid} - Reason: {explain why the user would most likely enjoy this movie}\n",
    "2. {movieid} - Reason: {explain why the user would likely enjoy this movie second}\n",
    "3. ...\n",
    "Please provide a ranked list of the recommended movies. You MUST rank only the given candidates and cannot include any movies not listed in the candidate list.\n",
    "```\n",
    "---\n",
    "```\n",
    "<positive samples>\n",
    "1. {movieid} Reason: {the reason the user would like the movie most}\n",
    "2. {movieid} Reason: This movie is ranked second because {specific reason related to the user’s preferences}\n",
    "3. ...\n",
    "```\n",
    "\n",
    "---\n",
    "```\n",
    "<rejected sample>\n",
    "1. {movieid} Reason: {the reason the user would like the movie most}\n",
    "2. {movieid} Reason: This movie is ranked second because {specific reason related to the user’s preferences}\n",
    "...\n",
    "\n",
    "```"
   ]
  },
  {
   "cell_type": "markdown",
   "metadata": {},
   "source": [
    "# Mistral Model Inference\n"
   ]
  },
  {
   "cell_type": "code",
   "execution_count": null,
   "metadata": {},
   "outputs": [],
   "source": [
    "def get_model_output(model, prompt):\n",
    "    pass"
   ]
  },
  {
   "cell_type": "code",
   "execution_count": null,
   "metadata": {},
   "outputs": [],
   "source": []
  }
 ],
 "metadata": {
  "language_info": {
   "name": "python"
  }
 },
 "nbformat": 4,
 "nbformat_minor": 2
}
